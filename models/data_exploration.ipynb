{
 "cells": [
  {
   "metadata": {},
   "cell_type": "markdown",
   "source": [
    "# Cancer Risk Prediction app\n",
    "\n",
    "This Jupyter notebook is made for exploring the data, cleaning it and prepare it to train the model which is going to predict cancer risk based on data coming from a web app."
   ],
   "id": "8a77807f92f26ee"
  },
  {
   "metadata": {},
   "cell_type": "markdown",
   "source": "First we import the libraries required for reading the data:",
   "id": "4d620a330c526f65"
  },
  {
   "metadata": {
    "ExecuteTime": {
     "end_time": "2025-10-28T01:48:01.190997Z",
     "start_time": "2025-10-28T01:47:56.043057Z"
    }
   },
   "cell_type": "code",
   "source": [
    "import sqlite3\n",
    "import pandas as pd"
   ],
   "id": "fbc121e30a2defb3",
   "outputs": [],
   "execution_count": 1
  },
  {
   "metadata": {},
   "cell_type": "markdown",
   "source": "Then we connect to the database and create a dataframe",
   "id": "cedd0bd6218ad3f7"
  },
  {
   "metadata": {
    "ExecuteTime": {
     "end_time": "2025-10-28T01:48:01.227068Z",
     "start_time": "2025-10-28T01:48:01.203105Z"
    }
   },
   "cell_type": "code",
   "source": [
    "conn = sqlite3.connect('synthetic_liver_cancer_dataset.db')\n",
    "query = 'SELECT * FROM mytable'\n",
    "\n",
    "df_read_sql = pd.read_sql(query, conn)"
   ],
   "id": "54b4fc8f15edd6f6",
   "outputs": [],
   "execution_count": 2
  }
 ],
 "metadata": {
  "kernelspec": {
   "display_name": "Python 3",
   "language": "python",
   "name": "python3"
  },
  "language_info": {
   "codemirror_mode": {
    "name": "ipython",
    "version": 2
   },
   "file_extension": ".py",
   "mimetype": "text/x-python",
   "name": "python",
   "nbconvert_exporter": "python",
   "pygments_lexer": "ipython2",
   "version": "2.7.6"
  }
 },
 "nbformat": 4,
 "nbformat_minor": 5
}
