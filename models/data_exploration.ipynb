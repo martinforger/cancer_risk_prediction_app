{
 "cells": [
  {
   "metadata": {},
   "cell_type": "markdown",
   "source": [
    "# Cancer Risk Prediction app\n",
    "\n",
    "This Jupyter notebook is made for exploring the data, cleaning it and prepare it to train the model which is going to predict cancer risk based on data coming from a web app."
   ],
   "id": "8a77807f92f26ee"
  },
  {
   "metadata": {},
   "cell_type": "markdown",
   "source": "First we import the libraries required for reading the data:",
   "id": "4d620a330c526f65"
  },
  {
   "metadata": {
    "ExecuteTime": {
     "end_time": "2025-10-28T01:48:01.190997Z",
     "start_time": "2025-10-28T01:47:56.043057Z"
    }
   },
   "cell_type": "code",
   "source": [
    "import sqlite3\n",
    "import pandas as pd"
   ],
   "id": "fbc121e30a2defb3",
   "outputs": [],
   "execution_count": 1
  },
  {
   "metadata": {},
   "cell_type": "markdown",
   "source": "Then we connect to the database and create a dataframe",
   "id": "cedd0bd6218ad3f7"
  },
  {
   "metadata": {
    "ExecuteTime": {
     "end_time": "2025-10-28T02:07:38.938440Z",
     "start_time": "2025-10-28T02:07:38.900624Z"
    }
   },
   "cell_type": "code",
   "source": [
    "print('Reading data...')\n",
    "conn = sqlite3.connect('synthetic_liver_cancer_dataset.db')\n",
    "query = 'SELECT * FROM mytable'\n",
    "df_read_sql = pd.read_sql(query, conn)\n",
    "\n",
    "print('\\n--- 1. Initial Analysis ---')\n",
    "print('Dataframe info: ')\n",
    "df_read_sql.info()\n",
    "\n",
    "print('\\n Descriptive Statistics: ')\n",
    "print(df_read_sql.describe())\n",
    "\n",
    "print('\\n Missing data: ')\n",
    "print(df_read_sql.isnull().sum())"
   ],
   "id": "54b4fc8f15edd6f6",
   "outputs": [
    {
     "name": "stdout",
     "output_type": "stream",
     "text": [
      "Reading data...\n",
      "\n",
      "--- 1. Initial Analysis ---\n",
      "Dataframe info: \n",
      "<class 'pandas.core.frame.DataFrame'>\n",
      "RangeIndex: 4969 entries, 0 to 4968\n",
      "Data columns (total 15 columns):\n",
      " #   Column                   Non-Null Count  Dtype  \n",
      "---  ------                   --------------  -----  \n",
      " 0   pk_id                    4969 non-null   int64  \n",
      " 1   age                      4969 non-null   int64  \n",
      " 2   gender                   4969 non-null   object \n",
      " 3   bmi                      4969 non-null   float64\n",
      " 4   alcohol_consumption      4969 non-null   object \n",
      " 5   smoking_status           4969 non-null   object \n",
      " 6   hepatitis_b              4969 non-null   int64  \n",
      " 7   hepatitis_c              4969 non-null   int64  \n",
      " 8   liver_function_score     4969 non-null   float64\n",
      " 9   alpha_fetoprotein_level  4969 non-null   float64\n",
      " 10  cirrhosis_history        4969 non-null   int64  \n",
      " 11  family_history_cancer    4969 non-null   int64  \n",
      " 12  physical_activity_level  4969 non-null   object \n",
      " 13  diabetes                 4969 non-null   int64  \n",
      " 14  liver_cancer             4969 non-null   int64  \n",
      "dtypes: float64(3), int64(8), object(4)\n",
      "memory usage: 582.4+ KB\n",
      "\n",
      " Descriptive Statistics: \n",
      "             pk_id          age          bmi  hepatitis_b  hepatitis_c  \\\n",
      "count  4969.000000  4969.000000  4969.000000   4969.00000  4969.000000   \n",
      "mean   2485.000000    51.811028    11.486657      0.15154     0.095995   \n",
      "std    1434.571074    21.780163    11.143574      0.35861     0.294614   \n",
      "min       1.000000     3.000000     0.000000      0.00000     0.000000   \n",
      "25%    1243.000000    39.000000     3.900000      0.00000     0.000000   \n",
      "50%    2485.000000    55.000000     7.000000      0.00000     0.000000   \n",
      "75%    3727.000000    69.000000    17.500000      0.00000     0.000000   \n",
      "max    4969.000000    84.000000    43.700000      1.00000     1.000000   \n",
      "\n",
      "       liver_function_score  alpha_fetoprotein_level  cirrhosis_history  \\\n",
      "count           4969.000000              4969.000000        4969.000000   \n",
      "mean              59.252989                11.475645           0.302274   \n",
      "std               22.678929                14.587922           0.459290   \n",
      "min                0.400000                 0.000000           0.000000   \n",
      "25%               50.600000                 1.940000           0.000000   \n",
      "50%               63.600000                 6.710000           0.000000   \n",
      "75%               74.400000                13.970000           1.000000   \n",
      "max              115.700000               136.800000           1.000000   \n",
      "\n",
      "       family_history_cancer     diabetes  liver_cancer  \n",
      "count            4969.000000  4969.000000   4969.000000  \n",
      "mean                0.241699     0.198632      0.218153  \n",
      "std                 0.428156     0.399010      0.413033  \n",
      "min                 0.000000     0.000000      0.000000  \n",
      "25%                 0.000000     0.000000      0.000000  \n",
      "50%                 0.000000     0.000000      0.000000  \n",
      "75%                 0.000000     0.000000      0.000000  \n",
      "max                 1.000000     1.000000      1.000000  \n",
      "\n",
      " Missing data: \n",
      "pk_id                      0\n",
      "age                        0\n",
      "gender                     0\n",
      "bmi                        0\n",
      "alcohol_consumption        0\n",
      "smoking_status             0\n",
      "hepatitis_b                0\n",
      "hepatitis_c                0\n",
      "liver_function_score       0\n",
      "alpha_fetoprotein_level    0\n",
      "cirrhosis_history          0\n",
      "family_history_cancer      0\n",
      "physical_activity_level    0\n",
      "diabetes                   0\n",
      "liver_cancer               0\n",
      "dtype: int64\n"
     ]
    }
   ],
   "execution_count": 7
  }
 ],
 "metadata": {
  "kernelspec": {
   "display_name": "Python 3",
   "language": "python",
   "name": "python3"
  },
  "language_info": {
   "codemirror_mode": {
    "name": "ipython",
    "version": 2
   },
   "file_extension": ".py",
   "mimetype": "text/x-python",
   "name": "python",
   "nbconvert_exporter": "python",
   "pygments_lexer": "ipython2",
   "version": "2.7.6"
  }
 },
 "nbformat": 4,
 "nbformat_minor": 5
}
